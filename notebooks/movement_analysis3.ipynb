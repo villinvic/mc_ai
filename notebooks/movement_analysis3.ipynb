{
 "cells": [
  {
   "cell_type": "code",
   "execution_count": 2,
   "id": "269f99a3",
   "metadata": {},
   "outputs": [
    {
     "name": "stderr",
     "output_type": "stream",
     "text": [
      "/home/goji/.local/lib/python3.10/site-packages/matplotlib/projections/__init__.py:63: UserWarning: Unable to import Axes3D. This may be due to multiple versions of Matplotlib being installed (e.g. as a system package and as a pip package). As a result, the 3D projection is not available.\n",
      "  warnings.warn(\"Unable to import Axes3D. This may be due to multiple versions of \"\n"
     ]
    }
   ],
   "source": [
    "import re\n",
    "import numpy as np\n",
    "import matplotlib.pyplot as plt"
   ]
  },
  {
   "cell_type": "code",
   "execution_count": 3,
   "id": "17db530c",
   "metadata": {},
   "outputs": [],
   "source": [
    "def extract_positions_from_log(file_path, field):\n",
    "    positions = []\n",
    "\n",
    "    # Regex to match the [POS] line and extract x, y, z as floats\n",
    "    pattern = re.compile(rf\"\\[{field}\\]\\[([-\\d.eE]+)d,([-\\d.eE]+)d,([-\\d.eE]+)d\\]\")\n",
    "\n",
    "    with open(file_path, 'r', encoding='utf-8') as file:\n",
    "        for line in file:\n",
    "            match = pattern.search(line)\n",
    "            if match:\n",
    "                x, y, z = map(float, match.groups())\n",
    "                positions.append((x, y, z))\n",
    "    return np.array(positions)"
   ]
  },
  {
   "cell_type": "code",
   "execution_count": 4,
   "id": "ff42b052",
   "metadata": {},
   "outputs": [
    {
     "name": "stdout",
     "output_type": "stream",
     "text": [
      "[-0.0784 -0.0784 -0.0784 -0.0784 -0.0784 -0.0784 -0.0784 -0.0784 -0.0784\n",
      " -0.0784 -0.0784 -0.0784 -0.0784 -0.0784 -0.0784 -0.0784 -0.0784 -0.0784\n",
      " -0.0784 -0.0784 -0.0784 -0.0784 -0.0784 -0.0784 -0.0784 -0.0784 -0.0784\n",
      " -0.0784 -0.0784 -0.0784 -0.0784 -0.0784 -0.0784 -0.0784 -0.0784 -0.0784\n",
      " -0.0784 -0.0784 -0.0784 -0.0784 -0.0784 -0.0784 -0.0784 -0.0784 -0.0784\n",
      " -0.0784 -0.0784 -0.0784 -0.0784 -0.0784]\n",
      "0.25082192928503133 0.0\n"
     ]
    }
   ],
   "source": [
    "positions = extract_positions_from_log(\"../data/movements/sprint.log\", \"xyz\")\n",
    "velocities = extract_positions_from_log(\"../data/movements/sprint.log\", \"vel\")\n",
    "\n",
    "y = positions[:, 1]\n",
    "\n",
    "diffs = np.diff(positions, axis=0)\n",
    "\n",
    "vy = diffs[:, 1]\n",
    "vh = np.linalg.norm(diffs[:, [0, 2]], axis=1)\n",
    "\n",
    "vvy = velocities[:, 1]\n",
    "vvh = np.linalg.norm(velocities[:, [0, 2]], axis=1)\n",
    "\n",
    "print(vvy)\n",
    "\n",
    "print(np.mean(vh), np.mean(vvh))"
   ]
  },
  {
   "cell_type": "code",
   "execution_count": 5,
   "id": "d3b6ebb4",
   "metadata": {},
   "outputs": [
    {
     "data": {
      "text/plain": [
       "<matplotlib.legend.Legend at 0x79e4dec55f90>"
      ]
     },
     "execution_count": 5,
     "metadata": {},
     "output_type": "execute_result"
    },
    {
     "data": {
      "image/png": "[encoded data removed]",
      "text/plain": [
       "<Figure size 432x288 with 1 Axes>"
      ]
     },
     "metadata": {
      "needs_background": "light"
     },
     "output_type": "display_data"
    }
   ],
   "source": [
    "plt.plot(np.arange(len(vh)), vh, label=\"vh\")\n",
    "plt.legend()"
   ]
  },
  {
   "cell_type": "code",
   "execution_count": 6,
   "id": "3c6d6846",
   "metadata": {},
   "outputs": [
    {
     "data": {
      "text/plain": [
       "<matplotlib.legend.Legend at 0x79e4deb47c10>"
      ]
     },
     "execution_count": 6,
     "metadata": {},
     "output_type": "execute_result"
    },
    {
     "data": {
      "image/png": "[encoded data removed]",
      "text/plain": [
       "<Figure size 432x288 with 1 Axes>"
      ]
     },
     "metadata": {
      "needs_background": "light"
     },
     "output_type": "display_data"
    }
   ],
   "source": [
    "plt.plot(np.arange(len(vy)), vy, label=\"vy\")\n",
    "plt.legend()"
   ]
  },
  {
   "cell_type": "code",
   "execution_count": 7,
   "id": "ec048913",
   "metadata": {},
   "outputs": [
    {
     "data": {
      "text/plain": [
       "<matplotlib.legend.Legend at 0x79e4dc992e30>"
      ]
     },
     "execution_count": 7,
     "metadata": {},
     "output_type": "execute_result"
    },
    {
     "data": {
      "image/png": "[encoded data removed]",
      "text/plain": [
       "<Figure size 432x288 with 1 Axes>"
      ]
     },
     "metadata": {
      "needs_background": "light"
     },
     "output_type": "display_data"
    }
   ],
   "source": [
    "plt.plot(np.arange(len(vvh)), vvh, label=\"vvh\")\n",
    "plt.legend()"
   ]
  },
  {
   "cell_type": "code",
   "execution_count": 8,
   "id": "3c5cd32c",
   "metadata": {},
   "outputs": [
    {
     "name": "stdout",
     "output_type": "stream",
     "text": [
      "-0.07840000152587889\n"
     ]
    },
    {
     "data": {
      "image/png": "[encoded data removed]",
      "text/plain": [
       "<Figure size 432x288 with 1 Axes>"
      ]
     },
     "metadata": {
      "needs_background": "light"
     },
     "output_type": "display_data"
    }
   ],
   "source": [
    "plt.plot(np.arange(len(vvy)), vvy, label=\"vvy\")\n",
    "plt.plot(np.arange(len(vy)), vy, label=\"vy\")\n",
    "\n",
    "plt.legend()\n",
    "print(np.mean(vvy))"
   ]
  },
  {
   "cell_type": "code",
   "execution_count": 24,
   "id": "f9175903",
   "metadata": {},
   "outputs": [],
   "source": [
    "# simulate sprint jumping \n",
    "\n",
    "\n",
    "g_ground = 0.0784\n",
    "g_up = 0.0828\n",
    "g_down = 0.075\n",
    "\n",
    "jump_strength = 0.415 + g_up\n",
    "\n",
    "sprint_speed = 0.28\n",
    "\n",
    "base_jump_boost = 0.24\n",
    "jump_boost_rel = 0.32\n",
    "air_fric_rel = 0.14\n",
    "jump_boost = 0.2\n",
    "air_fric = 0.3\n",
    "air_fric_ground = 1.5\n",
    "air_fric_ground_rel = 5\n",
    "\n",
    "sprint_accel = 0.0971 * 1.3\n",
    "walk_air_accel = 0.0197\n",
    "sprint_air_accel = walk_air_accel * 1.3\n",
    "\n",
    "sim_y = y[0] + 60\n",
    "sim_vy = vvy[0]\n",
    "sim_vx = vh[0]\n",
    "sim_vvx = vvh[0]\n",
    "\n",
    "ys = [sim_y]\n",
    "vys = [sim_vy]\n",
    "vxs = [sim_vx]\n",
    "vvxs = [sim_vvx]\n",
    "\n",
    "for t in range(1, len(vh)):\n",
    "    \n",
    "    if sim_y > 0:\n",
    "        sim_vx -= air_fric_rel * (np.abs(sim_vx)) * 0.088\n",
    "        sim_vvx -= air_fric * (np.abs(sim_vvx)) * 0.3\n",
    "    else:\n",
    "        sim_vx -= air_fric_ground_rel * (np.abs(sim_vx)) * 0.088\n",
    "        sim_vvx -= air_fric_ground * (np.abs(sim_vvx)) * 0.3\n",
    "    \n",
    "    \n",
    "    if vh[t] > 0:\n",
    "        sim_vvx += sprint_accel\n",
    "\n",
    "    if sim_vy > 0:\n",
    "        g = g_up\n",
    "    else:\n",
    "        g = g_down\n",
    "        \n",
    "        \n",
    "    sim_vy -= g\n",
    "    \n",
    "    sim_y = np.maximum(sim_y + sim_vy, 0)\n",
    "    \n",
    "    if t > 1 and t + 1 < len(vvy) and  vvy[t+1] > 0.4:   \n",
    "        sim_vx += jump_boost_rel\n",
    "    \n",
    "    if sim_y == 0 and vvy[t] < 0.4:\n",
    "        sim_vy = -g_down\n",
    "        \n",
    "    \n",
    "\n",
    "    \n",
    "    ys.append(sim_y)\n",
    "    vys.append(sim_vy)\n",
    "    \n",
    "    vxs.append(sim_vx)\n",
    "    vvxs.append(sim_vvx)\n",
    "    "
   ]
  },
  {
   "cell_type": "code",
   "execution_count": 25,
   "id": "7d74c252",
   "metadata": {},
   "outputs": [
    {
     "data": {
      "text/plain": [
       "<matplotlib.legend.Legend at 0x79e4dc2a7760>"
      ]
     },
     "execution_count": 25,
     "metadata": {},
     "output_type": "execute_result"
    },
    {
     "data": {
      "image/png": "[encoded data removed]",
      "text/plain": [
       "<Figure size 432x288 with 1 Axes>"
      ]
     },
     "metadata": {
      "needs_background": "light"
     },
     "output_type": "display_data"
    }
   ],
   "source": [
    "plt.plot(np.arange(len(vvy)), vvy, label=\"vvy\")\n",
    "plt.plot(np.arange(len(vys)), vys, label=\"sim_vvy\")\n",
    "plt.plot(np.arange(len(y)), y+60, label=\"y\")\n",
    "plt.plot(np.arange(len(ys)), ys, label=\"sim_y\")\n",
    "#plt.hlines(-g_ground, 0, 37)\n",
    "plt.grid()\n",
    "\n",
    "plt.legend()\n"
   ]
  },
  {
   "cell_type": "code",
   "execution_count": 26,
   "id": "b09f0ded",
   "metadata": {},
   "outputs": [
    {
     "data": {
      "text/plain": [
       "<matplotlib.legend.Legend at 0x79e4deafbc70>"
      ]
     },
     "execution_count": 26,
     "metadata": {},
     "output_type": "execute_result"
    },
    {
     "data": {
      "image/png": "[encoded data removed]",
      "text/plain": [
       "<Figure size 432x288 with 1 Axes>"
      ]
     },
     "metadata": {
      "needs_background": "light"
     },
     "output_type": "display_data"
    }
   ],
   "source": [
    "plt.plot(np.arange(len(vvh)), vvh, label=\"vvh\", linestyle=\":\")\n",
    "plt.plot(np.arange(len(vvxs)), vvxs, label=\"sim_vvx\", linestyle=\"--\")\n",
    "plt.plot(np.arange(len(vh)), vh, label=\"vh\", linestyle=\":\")\n",
    "plt.plot(np.arange(len(vxs)), vxs, label=\"sim_vx\", linestyle=\"--\")\n",
    "\n",
    "plt.grid()\n",
    "\n",
    "plt.legend()"
   ]
  },
  {
   "cell_type": "code",
   "execution_count": null,
   "id": "5772c621",
   "metadata": {},
   "outputs": [],
   "source": []
  },
  {
   "cell_type": "code",
   "execution_count": null,
   "id": "3b3339d8",
   "metadata": {},
   "outputs": [],
   "source": []
  },
  {
   "cell_type": "code",
   "execution_count": null,
   "id": "9a552374",
   "metadata": {},
   "outputs": [],
   "source": []
  }
 ],
 "metadata": {
  "kernelspec": {
   "display_name": "Python 3 (ipykernel)",
   "language": "python",
   "name": "python3"
  },
  "language_info": {
   "codemirror_mode": {
    "name": "ipython",
    "version": 3
   },
   "file_extension": ".py",
   "mimetype": "text/x-python",
   "name": "python",
   "nbconvert_exporter": "python",
   "pygments_lexer": "ipython3",
   "version": "3.10.17"
  }
 },
 "nbformat": 4,
 "nbformat_minor": 5
}
